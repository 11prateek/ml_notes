{
 "cells": [
  {
   "cell_type": "markdown",
   "metadata": {},
   "source": [
    "\n",
    "$(\\mathbf{A v})_i = \\displaystyle\\sum_j A_{ij} v_j$\n",
    "\n",
    "$(\\mathbf{A v})^T_i = (\\mathbf{v^T A^T})_i = \\displaystyle\\sum_j v_j A^T_{ji} = \\displaystyle\\sum_j v_j A_{ij} $\n",
    "\n",
    "$\\mathbf{v^T A^T A v} = \\displaystyle\\sum_{ijk}v_i A^T_{ij}A_{jk} v_k = \\displaystyle\\sum_{ijk}v_i A_{ji}A_{jk}v_k = \\displaystyle\\sum_{j} \\displaystyle\\sum_{i}  A_{ji}v_i \\displaystyle\\sum_{k}A_{jk} v_k = \\displaystyle\\sum_{j} (\\mathbf{A v})_j^2 \\geq 0$"
   ]
  }
 ],
 "metadata": {
  "kernelspec": {
   "display_name": "Python 3",
   "language": "python",
   "name": "python3"
  },
  "language_info": {
   "codemirror_mode": {
    "name": "ipython",
    "version": 3
   },
   "file_extension": ".py",
   "mimetype": "text/x-python",
   "name": "python",
   "nbconvert_exporter": "python",
   "pygments_lexer": "ipython3",
   "version": "3.8.5"
  }
 },
 "nbformat": 4,
 "nbformat_minor": 4
}
